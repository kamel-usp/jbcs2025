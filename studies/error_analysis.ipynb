{
 "cells": [
  {
   "cell_type": "code",
   "execution_count": 1,
   "metadata": {},
   "outputs": [],
   "source": [
    "import sys\n",
    "from pathlib import Path\n",
    "\n",
    "import matplotlib.pyplot as plt\n",
    "import numpy as np\n",
    "import pandas as pd\n",
    "from omegaconf import OmegaConf\n",
    "from sklearn.metrics import confusion_matrix, precision_recall_fscore_support"
   ]
  },
  {
   "cell_type": "code",
   "execution_count": 2,
   "metadata": {},
   "outputs": [],
   "source": [
    "parent_dir = str(Path(\".\").resolve().parent) + \"/scripts\"\n",
    "sys.path.append(str(parent_dir))\n",
    "\n",
    "import preprocess"
   ]
  },
  {
   "cell_type": "code",
   "execution_count": 3,
   "metadata": {},
   "outputs": [],
   "source": [
    "from models.fine_tuning_models.model_types_enum import ModelTypesEnum\n",
    "from metrics.metrics import compute_metrics"
   ]
  },
  {
   "cell_type": "code",
   "execution_count": 4,
   "metadata": {},
   "outputs": [
    {
     "data": {
      "text/html": [
       "<div>\n",
       "<style scoped>\n",
       "    .dataframe tbody tr th:only-of-type {\n",
       "        vertical-align: middle;\n",
       "    }\n",
       "\n",
       "    .dataframe tbody tr th {\n",
       "        vertical-align: top;\n",
       "    }\n",
       "\n",
       "    .dataframe thead th {\n",
       "        text-align: right;\n",
       "    }\n",
       "</style>\n",
       "<table border=\"1\" class=\"dataframe\">\n",
       "  <thead>\n",
       "    <tr style=\"text-align: right;\">\n",
       "      <th></th>\n",
       "      <th>id</th>\n",
       "      <th>id_prompt</th>\n",
       "      <th>essay_text</th>\n",
       "      <th>label</th>\n",
       "      <th>grade_index</th>\n",
       "      <th>reference</th>\n",
       "      <th>thinking_text</th>\n",
       "      <th>justificativa</th>\n",
       "      <th>pontuacao</th>\n",
       "    </tr>\n",
       "  </thead>\n",
       "  <tbody>\n",
       "    <tr>\n",
       "      <th>0</th>\n",
       "      <td>7.html</td>\n",
       "      <td>o-brasil-e-os-imigrantes-no-mundo-contemporaneo</td>\n",
       "      <td>É indubitável que à polêmica acerca de imigran...</td>\n",
       "      <td>120</td>\n",
       "      <td>0</td>\n",
       "      <td>grader_a</td>\n",
       "      <td></td>\n",
       "      <td>A redação apresenta domínio mediano da modalid...</td>\n",
       "      <td>120</td>\n",
       "    </tr>\n",
       "    <tr>\n",
       "      <th>1</th>\n",
       "      <td>17.html</td>\n",
       "      <td>agrotoxicos-ou-defensivos-agricolas-dois-nomes...</td>\n",
       "      <td>Em meio a esta discussão para definir um nome ...</td>\n",
       "      <td>160</td>\n",
       "      <td>0</td>\n",
       "      <td>grader_a</td>\n",
       "      <td></td>\n",
       "      <td>A redação demonstra um bom domínio da modalida...</td>\n",
       "      <td>160</td>\n",
       "    </tr>\n",
       "    <tr>\n",
       "      <th>2</th>\n",
       "      <td>4.html</td>\n",
       "      <td>qualificacao-e-o-futuro-do-emprego</td>\n",
       "      <td>À medida que a humanidade se torna mais consci...</td>\n",
       "      <td>120</td>\n",
       "      <td>0</td>\n",
       "      <td>grader_b</td>\n",
       "      <td></td>\n",
       "      <td>A redação demonstra um bom domínio da modalida...</td>\n",
       "      <td>160</td>\n",
       "    </tr>\n",
       "    <tr>\n",
       "      <th>3</th>\n",
       "      <td>5.html</td>\n",
       "      <td>agrotoxicos-ou-defensivos-agricolas-dois-nomes...</td>\n",
       "      <td>A forma como determinados métodos ou produtos ...</td>\n",
       "      <td>160</td>\n",
       "      <td>0</td>\n",
       "      <td>grader_b</td>\n",
       "      <td></td>\n",
       "      <td>A redação demonstra um bom domínio da modalida...</td>\n",
       "      <td>160</td>\n",
       "    </tr>\n",
       "    <tr>\n",
       "      <th>4</th>\n",
       "      <td>3.html</td>\n",
       "      <td>qualificacao-e-o-futuro-do-emprego</td>\n",
       "      <td>O mercado de trabalho está sofrendo mudanças, ...</td>\n",
       "      <td>120</td>\n",
       "      <td>0</td>\n",
       "      <td>grader_b</td>\n",
       "      <td></td>\n",
       "      <td>A redação apresenta domínio mediano da modalid...</td>\n",
       "      <td>120</td>\n",
       "    </tr>\n",
       "  </tbody>\n",
       "</table>\n",
       "</div>"
      ],
      "text/plain": [
       "        id                                          id_prompt  \\\n",
       "0   7.html    o-brasil-e-os-imigrantes-no-mundo-contemporaneo   \n",
       "1  17.html  agrotoxicos-ou-defensivos-agricolas-dois-nomes...   \n",
       "2   4.html                 qualificacao-e-o-futuro-do-emprego   \n",
       "3   5.html  agrotoxicos-ou-defensivos-agricolas-dois-nomes...   \n",
       "4   3.html                 qualificacao-e-o-futuro-do-emprego   \n",
       "\n",
       "                                          essay_text  label  grade_index  \\\n",
       "0  É indubitável que à polêmica acerca de imigran...    120            0   \n",
       "1  Em meio a esta discussão para definir um nome ...    160            0   \n",
       "2  À medida que a humanidade se torna mais consci...    120            0   \n",
       "3  A forma como determinados métodos ou produtos ...    160            0   \n",
       "4  O mercado de trabalho está sofrendo mudanças, ...    120            0   \n",
       "\n",
       "  reference thinking_text                                      justificativa  \\\n",
       "0  grader_a                A redação apresenta domínio mediano da modalid...   \n",
       "1  grader_a                A redação demonstra um bom domínio da modalida...   \n",
       "2  grader_b                A redação demonstra um bom domínio da modalida...   \n",
       "3  grader_b                A redação demonstra um bom domínio da modalida...   \n",
       "4  grader_b                A redação apresenta domínio mediano da modalid...   \n",
       "\n",
       "   pontuacao  \n",
       "0        120  \n",
       "1        160  \n",
       "2        160  \n",
       "3        160  \n",
       "4        120  "
      ]
     },
     "execution_count": 4,
     "metadata": {},
     "output_type": "execute_result"
    }
   ],
   "source": [
    "results = pd.read_json(\n",
    "    \"C:\\\\workspace\\\\learning\\\\jbcs2025\\\\outputs\\\\2025-03-16\\\\14-59-33\\\\sabia-3-zero-shot-C1_inference_results.jsonl\",\n",
    "    lines=True,\n",
    ")\n",
    "results.head()"
   ]
  },
  {
   "cell_type": "code",
   "execution_count": 5,
   "metadata": {},
   "outputs": [],
   "source": [
    "true_labels = results[\"label\"]\n",
    "preds = results[\"pontuacao\"]"
   ]
  },
  {
   "cell_type": "code",
   "execution_count": 6,
   "metadata": {},
   "outputs": [
    {
     "data": {
      "text/plain": [
       "label\n",
       "120    66\n",
       "160    51\n",
       "200    10\n",
       "80     10\n",
       "0       1\n",
       "Name: count, dtype: int64"
      ]
     },
     "metadata": {},
     "output_type": "display_data"
    },
    {
     "data": {
      "text/plain": [
       "pontuacao\n",
       "120    64\n",
       "160    54\n",
       "80     12\n",
       "40      6\n",
       "200     2\n",
       "Name: count, dtype: int64"
      ]
     },
     "metadata": {},
     "output_type": "display_data"
    }
   ],
   "source": [
    "display(true_labels.value_counts())\n",
    "display(preds.value_counts())"
   ]
  },
  {
   "cell_type": "code",
   "execution_count": 7,
   "metadata": {},
   "outputs": [],
   "source": [
    "model_type = ModelTypesEnum.MARITACA_SABIA.value\n",
    "experiment_config = OmegaConf.create(\n",
    "    {\n",
    "        \"experiments\": {\n",
    "            \"model\": {\n",
    "                \"type\": model_type\n",
    "            }\n",
    "        }\n",
    "    }\n",
    ")"
   ]
  },
  {
   "cell_type": "code",
   "execution_count": 8,
   "metadata": {},
   "outputs": [
    {
     "data": {
      "text/plain": [
       "{'accuracy': 0.6739130434782609,\n",
       " 'RMSE': 25.02172968684897,\n",
       " 'QWK': 0.6990306946688207,\n",
       " 'HDIV': 0.0,\n",
       " 'Macro_F1': 0.32524697524697527,\n",
       " 'Micro_F1': 0.6739130434782609,\n",
       " 'Weighted_F1': 0.673558808341417,\n",
       " 'Macro_F1_(ignoring_nan)': np.float64(0.48787046287046293)}"
      ]
     },
     "execution_count": 8,
     "metadata": {},
     "output_type": "execute_result"
    }
   ],
   "source": [
    "compute_metrics((true_labels, preds), experiment_config)"
   ]
  }
 ],
 "metadata": {
  "kernelspec": {
   "display_name": ".venv",
   "language": "python",
   "name": "python3"
  },
  "language_info": {
   "codemirror_mode": {
    "name": "ipython",
    "version": 3
   },
   "file_extension": ".py",
   "mimetype": "text/x-python",
   "name": "python",
   "nbconvert_exporter": "python",
   "pygments_lexer": "ipython3",
   "version": "3.12.8"
  }
 },
 "nbformat": 4,
 "nbformat_minor": 2
}
