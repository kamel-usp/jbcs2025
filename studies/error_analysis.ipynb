{
 "cells": [
  {
   "cell_type": "code",
   "execution_count": 23,
   "metadata": {},
   "outputs": [],
   "source": [
    "import pandas as pd\n",
    "from sklearn.metrics import confusion_matrix\n",
    "import matplotlib.pyplot as plt\n",
    "import numpy as np\n",
    "from sklearn.metrics import precision_recall_fscore_support\n",
    "\n",
    "results = pd.read_json(\n",
    "    \"C:\\\\workspace\\\\learning\\\\jbcs2025\\\\outputs\\\\2025-03-16\\\\14-59-33\\\\sabia-3-zero-shot-C1_inference_results.jsonl\",\n",
    "    lines=True,\n",
    ")"
   ]
  },
  {
   "cell_type": "code",
   "execution_count": 2,
   "metadata": {},
   "outputs": [
    {
     "data": {
      "text/html": [
       "<div>\n",
       "<style scoped>\n",
       "    .dataframe tbody tr th:only-of-type {\n",
       "        vertical-align: middle;\n",
       "    }\n",
       "\n",
       "    .dataframe tbody tr th {\n",
       "        vertical-align: top;\n",
       "    }\n",
       "\n",
       "    .dataframe thead th {\n",
       "        text-align: right;\n",
       "    }\n",
       "</style>\n",
       "<table border=\"1\" class=\"dataframe\">\n",
       "  <thead>\n",
       "    <tr style=\"text-align: right;\">\n",
       "      <th></th>\n",
       "      <th>id</th>\n",
       "      <th>id_prompt</th>\n",
       "      <th>essay_text</th>\n",
       "      <th>label</th>\n",
       "      <th>grade_index</th>\n",
       "      <th>reference</th>\n",
       "      <th>thinking_text</th>\n",
       "      <th>justificativa</th>\n",
       "      <th>pontuacao</th>\n",
       "    </tr>\n",
       "  </thead>\n",
       "  <tbody>\n",
       "    <tr>\n",
       "      <th>0</th>\n",
       "      <td>7.html</td>\n",
       "      <td>o-brasil-e-os-imigrantes-no-mundo-contemporaneo</td>\n",
       "      <td>É indubitável que à polêmica acerca de imigran...</td>\n",
       "      <td>120</td>\n",
       "      <td>0</td>\n",
       "      <td>grader_a</td>\n",
       "      <td></td>\n",
       "      <td>A redação apresenta domínio mediano da modalid...</td>\n",
       "      <td>120</td>\n",
       "    </tr>\n",
       "    <tr>\n",
       "      <th>1</th>\n",
       "      <td>17.html</td>\n",
       "      <td>agrotoxicos-ou-defensivos-agricolas-dois-nomes...</td>\n",
       "      <td>Em meio a esta discussão para definir um nome ...</td>\n",
       "      <td>160</td>\n",
       "      <td>0</td>\n",
       "      <td>grader_a</td>\n",
       "      <td></td>\n",
       "      <td>A redação demonstra um bom domínio da modalida...</td>\n",
       "      <td>160</td>\n",
       "    </tr>\n",
       "    <tr>\n",
       "      <th>2</th>\n",
       "      <td>4.html</td>\n",
       "      <td>qualificacao-e-o-futuro-do-emprego</td>\n",
       "      <td>À medida que a humanidade se torna mais consci...</td>\n",
       "      <td>120</td>\n",
       "      <td>0</td>\n",
       "      <td>grader_b</td>\n",
       "      <td></td>\n",
       "      <td>A redação demonstra um bom domínio da modalida...</td>\n",
       "      <td>160</td>\n",
       "    </tr>\n",
       "    <tr>\n",
       "      <th>3</th>\n",
       "      <td>5.html</td>\n",
       "      <td>agrotoxicos-ou-defensivos-agricolas-dois-nomes...</td>\n",
       "      <td>A forma como determinados métodos ou produtos ...</td>\n",
       "      <td>160</td>\n",
       "      <td>0</td>\n",
       "      <td>grader_b</td>\n",
       "      <td></td>\n",
       "      <td>A redação demonstra um bom domínio da modalida...</td>\n",
       "      <td>160</td>\n",
       "    </tr>\n",
       "    <tr>\n",
       "      <th>4</th>\n",
       "      <td>3.html</td>\n",
       "      <td>qualificacao-e-o-futuro-do-emprego</td>\n",
       "      <td>O mercado de trabalho está sofrendo mudanças, ...</td>\n",
       "      <td>120</td>\n",
       "      <td>0</td>\n",
       "      <td>grader_b</td>\n",
       "      <td></td>\n",
       "      <td>A redação apresenta domínio mediano da modalid...</td>\n",
       "      <td>120</td>\n",
       "    </tr>\n",
       "  </tbody>\n",
       "</table>\n",
       "</div>"
      ],
      "text/plain": [
       "        id                                          id_prompt  \\\n",
       "0   7.html    o-brasil-e-os-imigrantes-no-mundo-contemporaneo   \n",
       "1  17.html  agrotoxicos-ou-defensivos-agricolas-dois-nomes...   \n",
       "2   4.html                 qualificacao-e-o-futuro-do-emprego   \n",
       "3   5.html  agrotoxicos-ou-defensivos-agricolas-dois-nomes...   \n",
       "4   3.html                 qualificacao-e-o-futuro-do-emprego   \n",
       "\n",
       "                                          essay_text  label  grade_index  \\\n",
       "0  É indubitável que à polêmica acerca de imigran...    120            0   \n",
       "1  Em meio a esta discussão para definir um nome ...    160            0   \n",
       "2  À medida que a humanidade se torna mais consci...    120            0   \n",
       "3  A forma como determinados métodos ou produtos ...    160            0   \n",
       "4  O mercado de trabalho está sofrendo mudanças, ...    120            0   \n",
       "\n",
       "  reference thinking_text                                      justificativa  \\\n",
       "0  grader_a                A redação apresenta domínio mediano da modalid...   \n",
       "1  grader_a                A redação demonstra um bom domínio da modalida...   \n",
       "2  grader_b                A redação demonstra um bom domínio da modalida...   \n",
       "3  grader_b                A redação demonstra um bom domínio da modalida...   \n",
       "4  grader_b                A redação apresenta domínio mediano da modalid...   \n",
       "\n",
       "   pontuacao  \n",
       "0        120  \n",
       "1        160  \n",
       "2        160  \n",
       "3        160  \n",
       "4        120  "
      ]
     },
     "execution_count": 2,
     "metadata": {},
     "output_type": "execute_result"
    }
   ],
   "source": [
    "results.head()"
   ]
  },
  {
   "cell_type": "code",
   "execution_count": 3,
   "metadata": {},
   "outputs": [],
   "source": [
    "true_labels = results[\"label\"]\n",
    "preds = results[\"pontuacao\"]"
   ]
  },
  {
   "cell_type": "code",
   "execution_count": 5,
   "metadata": {},
   "outputs": [
    {
     "data": {
      "text/plain": [
       "label\n",
       "120    66\n",
       "160    51\n",
       "200    10\n",
       "80     10\n",
       "0       1\n",
       "Name: count, dtype: int64"
      ]
     },
     "metadata": {},
     "output_type": "display_data"
    },
    {
     "data": {
      "text/plain": [
       "pontuacao\n",
       "120    64\n",
       "160    54\n",
       "80     12\n",
       "40      6\n",
       "200     2\n",
       "Name: count, dtype: int64"
      ]
     },
     "metadata": {},
     "output_type": "display_data"
    }
   ],
   "source": [
    "display(true_labels.value_counts())\n",
    "display(preds.value_counts())"
   ]
  },
  {
   "cell_type": "code",
   "execution_count": 6,
   "metadata": {},
   "outputs": [],
   "source": [
    "from sklearn.metrics import accuracy_score, f1_score"
   ]
  },
  {
   "cell_type": "code",
   "execution_count": 7,
   "metadata": {},
   "outputs": [
    {
     "data": {
      "text/plain": [
       "0.6739130434782609"
      ]
     },
     "execution_count": 7,
     "metadata": {},
     "output_type": "execute_result"
    }
   ],
   "source": [
    "accuracy_score(true_labels, preds)"
   ]
  },
  {
   "cell_type": "code",
   "execution_count": 41,
   "metadata": {},
   "outputs": [
    {
     "data": {
      "text/plain": [
       "0.32524697524697527"
      ]
     },
     "execution_count": 41,
     "metadata": {},
     "output_type": "execute_result"
    }
   ],
   "source": [
    "f1_score(true_labels, preds, average=\"macro\", zero_division=np.nan)"
   ]
  },
  {
   "cell_type": "code",
   "execution_count": 20,
   "metadata": {},
   "outputs": [
    {
     "name": "stdout",
     "output_type": "stream",
     "text": [
      "Metrics by class:\n",
      "Class 0: {'TP': np.int64(0), 'FP': np.int64(0), 'FN': np.int64(1), 'TN': np.int64(137), 'precision': np.float64(nan), 'recall': np.float64(0.0), 'F1': np.float64(nan)}\n",
      "Class 40: {'TP': np.int64(0), 'FP': np.int64(6), 'FN': np.int64(0), 'TN': np.int64(132), 'precision': np.float64(0.0), 'recall': np.float64(nan), 'F1': np.float64(nan)}\n",
      "Class 80: {'TP': np.int64(3), 'FP': np.int64(9), 'FN': np.int64(7), 'TN': np.int64(119), 'precision': np.float64(0.25), 'recall': np.float64(0.3), 'F1': np.float64(0.2727272727272727)}\n",
      "Class 120: {'TP': np.int64(50), 'FP': np.int64(14), 'FN': np.int64(16), 'TN': np.int64(58), 'precision': np.float64(0.78125), 'recall': np.float64(0.7575757575757576), 'F1': np.float64(0.7692307692307692)}\n",
      "Class 160: {'TP': np.int64(39), 'FP': np.int64(15), 'FN': np.int64(12), 'TN': np.int64(72), 'precision': np.float64(0.7222222222222222), 'recall': np.float64(0.7647058823529411), 'F1': np.float64(0.7428571428571428)}\n",
      "Class 200: {'TP': np.int64(1), 'FP': np.int64(1), 'FN': np.int64(9), 'TN': np.int64(127), 'precision': np.float64(0.5), 'recall': np.float64(0.1), 'F1': np.float64(0.16666666666666669)}\n"
     ]
    },
    {
     "name": "stderr",
     "output_type": "stream",
     "text": [
      "C:\\Users\\andrebarbosa\\AppData\\Local\\Temp\\ipykernel_50356\\4248646937.py:16: RuntimeWarning: invalid value encountered in scalar divide\n",
      "  precision = tp / (tp + fp)\n",
      "C:\\Users\\andrebarbosa\\AppData\\Local\\Temp\\ipykernel_50356\\4248646937.py:17: RuntimeWarning: invalid value encountered in scalar divide\n",
      "  recall = tp / (tp + fn)\n"
     ]
    }
   ],
   "source": [
    "# Get all classes present in either series\n",
    "classes = sorted(set(preds.unique()) | set(true_labels.unique()))\n",
    "\n",
    "metrics = {}\n",
    "\n",
    "for cls in classes:\n",
    "    # True Positives: predicted and true label are both cls.\n",
    "    tp = ((preds == cls) & (true_labels == cls)).sum()\n",
    "    # False Positives: predicted as cls but true label is not cls.\n",
    "    fp = ((preds == cls) & (true_labels != cls)).sum()\n",
    "    # False Negatives: true label is cls but prediction is not cls.\n",
    "    fn = ((preds != cls) & (true_labels == cls)).sum()\n",
    "    # True Negatives: neither prediction nor true label is cls.\n",
    "    tn = ((preds != cls) & (true_labels != cls)).sum()\n",
    "\n",
    "    precision = tp / (tp + fp)\n",
    "    recall = tp / (tp + fn)\n",
    "\n",
    "    f1 = 2 * (precision * recall) / (precision + recall)\n",
    "\n",
    "    metrics[cls] = {\n",
    "        \"TP\": tp,\n",
    "        \"FP\": fp,\n",
    "        \"FN\": fn,\n",
    "        \"TN\": tn,\n",
    "        \"precision\": precision,\n",
    "        \"recall\": recall,\n",
    "        \"F1\": f1,\n",
    "    }\n",
    "\n",
    "# Display the results\n",
    "print(\"Metrics by class:\")\n",
    "for cls, metric in metrics.items():\n",
    "    print(f\"Class {cls}: {metric}\")"
   ]
  },
  {
   "cell_type": "code",
   "execution_count": 22,
   "metadata": {},
   "outputs": [
    {
     "data": {
      "text/plain": [
       "0.325"
      ]
     },
     "execution_count": 22,
     "metadata": {},
     "output_type": "execute_result"
    }
   ],
   "source": [
    "(0.27+0.77+0.74+0.17)/6"
   ]
  },
  {
   "cell_type": "code",
   "execution_count": 44,
   "metadata": {},
   "outputs": [
    {
     "name": "stdout",
     "output_type": "stream",
     "text": [
      "Macro F1 (ignoring nan): 0.32524697524697527\n"
     ]
    }
   ],
   "source": [
    "# Compute metrics per class; use zero_division=np.nan to propagate nans\n",
    "precision, recall, f1, support = precision_recall_fscore_support(\n",
    "    true_labels, preds, zero_division=np.nan, average=None\n",
    ")\n",
    "\n",
    "# Filter out the nan values and compute the average F1\n",
    "valid_f1 = f1[~np.isnan(f1)]\n",
    "macro_f1 = np.mean(valid_f1)\n",
    "print(\"Macro F1 (ignoring nan):\", macro_f1)"
   ]
  },
  {
   "cell_type": "code",
   "execution_count": 49,
   "metadata": {},
   "outputs": [
    {
     "name": "stdout",
     "output_type": "stream",
     "text": [
      "Precision per class: [       nan 0.         0.25       0.78125    0.72222222 0.5       ]\n",
      "Recall per class: [0.                nan 0.3        0.75757576 0.76470588 0.1       ]\n",
      "F1-score per class: [0.         0.         0.27272727 0.76923077 0.74285714 0.16666667]\n"
     ]
    }
   ],
   "source": [
    "precision, recall, f1, support = precision_recall_fscore_support(\n",
    "    true_labels, preds, zero_division=np.nan, average=None\n",
    ")\n",
    "\n",
    "print(\"Precision per class:\", precision)\n",
    "print(\"Recall per class:\", recall)\n",
    "print(\"F1-score per class:\", f1)"
   ]
  },
  {
   "cell_type": "code",
   "execution_count": 32,
   "metadata": {},
   "outputs": [
    {
     "data": {
      "text/plain": [
       "nan"
      ]
     },
     "execution_count": 32,
     "metadata": {},
     "output_type": "execute_result"
    }
   ],
   "source": [
    "0+np.nan"
   ]
  },
  {
   "cell_type": "markdown",
   "metadata": {},
   "source": [
    "For some reason, sklearn is setting it as zero while it should be np.nan"
   ]
  },
  {
   "cell_type": "code",
   "execution_count": 40,
   "metadata": {},
   "outputs": [
    {
     "name": "stdout",
     "output_type": "stream",
     "text": [
      "Macro F1 (ignoring nan): 0.48787046287046293\n"
     ]
    }
   ],
   "source": [
    "# Compute metrics per class; use zero_division=np.nan to propagate nans\n",
    "precision, recall, f1, support = precision_recall_fscore_support(\n",
    "    true_labels, preds, zero_division=np.nan, average=None\n",
    ")\n",
    "\n",
    "# Filter out the nan values and compute the average F1\n",
    "# For example, you might ignore classes for which support = 0 (never appears in y_true)\n",
    "# or for which scikit‐learn gave you a NaN for precision/recall.\n",
    "# We **keep** ∗a class if (precision is not NaN) AND (recall is not NaN) AND (support > 0).\n",
    "valid_mask = (~np.isnan(precision)) & (~np.isnan(recall)) & (support > 0)\n",
    "valid_f1 = f1[valid_mask]\n",
    "macro_f1 = np.mean(valid_f1)\n",
    "print(\"Macro F1 (ignoring nan):\", macro_f1)"
   ]
  },
  {
   "cell_type": "code",
   "execution_count": 9,
   "metadata": {},
   "outputs": [
    {
     "data": {
      "text/plain": [
       "0.6742672786151048"
      ]
     },
     "execution_count": 9,
     "metadata": {},
     "output_type": "execute_result"
    }
   ],
   "source": [
    "f1_score(true_labels, preds, average=\"weighted\")"
   ]
  },
  {
   "cell_type": "code",
   "execution_count": 8,
   "metadata": {},
   "outputs": [
    {
     "data": {
      "text/plain": [
       "0.6739130434782609"
      ]
     },
     "execution_count": 8,
     "metadata": {},
     "output_type": "execute_result"
    }
   ],
   "source": [
    "f1_score(true_labels, preds, average=\"micro\")"
   ]
  },
  {
   "cell_type": "code",
   "execution_count": null,
   "metadata": {},
   "outputs": [
    {
     "data": {
      "image/png": "[encoded data removed]",
      "text/plain": [
       "<Figure size 640x480 with 2 Axes>"
      ]
     },
     "metadata": {},
     "output_type": "display_data"
    }
   ],
   "source": [
    "class_labels = [0, 40, 80, 120, 160, 200]\n",
    "\n",
    "cm = confusion_matrix(true_labels, preds, labels=class_labels)\n",
    "plt.imshow(cm, interpolation=\"nearest\", cmap=plt.cm.Blues)\n",
    "plt.title(\"Confusion Matrix\")\n",
    "plt.colorbar()\n",
    "\n",
    "tick_marks = np.arange(len(class_labels))\n",
    "plt.xticks(tick_marks, class_labels, rotation=45)\n",
    "plt.yticks(tick_marks, class_labels)\n",
    "plt.xlabel(\"Predicted Label\")\n",
    "plt.ylabel(\"True Label\")\n",
    "\n",
    "thresh = cm.max() / 2.0\n",
    "for i in range(cm.shape[0]):\n",
    "    for j in range(cm.shape[1]):\n",
    "        plt.text(\n",
    "            j,\n",
    "            i,\n",
    "            format(cm[i, j], \"d\"),\n",
    "            horizontalalignment=\"center\",\n",
    "            color=\"white\" if cm[i, j] > thresh else \"black\",\n",
    "        )\n",
    "\n",
    "plt.tight_layout()\n",
    "plt.show()"
   ]
  },
  {
   "cell_type": "code",
   "execution_count": 22,
   "metadata": {},
   "outputs": [
    {
     "data": {
      "text/plain": [
       "array([[ 0,  0,  1,  0,  0,  0],\n",
       "       [ 0,  0,  0,  0,  0,  0],\n",
       "       [ 0,  4,  3,  3,  0,  0],\n",
       "       [ 0,  2,  8, 50,  6,  0],\n",
       "       [ 0,  0,  0, 11, 39,  1],\n",
       "       [ 0,  0,  0,  0,  9,  1]])"
      ]
     },
     "execution_count": 22,
     "metadata": {},
     "output_type": "execute_result"
    }
   ],
   "source": [
    "cm"
   ]
  },
  {
   "cell_type": "code",
   "execution_count": null,
   "metadata": {},
   "outputs": [
    {
     "data": {
      "text/plain": [
       "0.3"
      ]
     },
     "execution_count": 15,
     "metadata": {},
     "output_type": "execute_result"
    }
   ],
   "source": [
    "3 / (4 + 3 + 3)"
   ]
  },
  {
   "cell_type": "code",
   "execution_count": null,
   "metadata": {},
   "outputs": [
    {
     "data": {
      "text/plain": [
       "0.7575757575757576"
      ]
     },
     "execution_count": 16,
     "metadata": {},
     "output_type": "execute_result"
    }
   ],
   "source": [
    "50 / (50 + 6 + 8 + 2)"
   ]
  },
  {
   "cell_type": "code",
   "execution_count": null,
   "metadata": {},
   "outputs": [
    {
     "data": {
      "text/plain": [
       "0.7647058823529411"
      ]
     },
     "execution_count": 17,
     "metadata": {},
     "output_type": "execute_result"
    }
   ],
   "source": [
    "39 / (39 + 1 + 11)"
   ]
  },
  {
   "cell_type": "code",
   "execution_count": null,
   "metadata": {},
   "outputs": [
    {
     "data": {
      "text/plain": [
       "0.1"
      ]
     },
     "execution_count": 18,
     "metadata": {},
     "output_type": "execute_result"
    }
   ],
   "source": [
    "1 / (1 + 9)"
   ]
  },
  {
   "cell_type": "code",
   "execution_count": null,
   "metadata": {},
   "outputs": [
    {
     "data": {
      "text/plain": [
       "0.31911666666666666"
      ]
     },
     "execution_count": 21,
     "metadata": {},
     "output_type": "execute_result"
    }
   ],
   "source": [
    "(0 + 0 + 0.3 + 0.1 + 0.7647 + 0.75) / 6"
   ]
  }
 ],
 "metadata": {
  "kernelspec": {
   "display_name": ".venv",
   "language": "python",
   "name": "python3"
  },
  "language_info": {
   "codemirror_mode": {
    "name": "ipython",
    "version": 3
   },
   "file_extension": ".py",
   "mimetype": "text/x-python",
   "name": "python",
   "nbconvert_exporter": "python",
   "pygments_lexer": "ipython3",
   "version": "3.12.8"
  }
 },
 "nbformat": 4,
 "nbformat_minor": 2
}
