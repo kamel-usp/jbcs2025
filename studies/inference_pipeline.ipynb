{
 "cells": [
  {
   "cell_type": "code",
   "execution_count": 1,
   "metadata": {},
   "outputs": [
    {
     "name": "stdout",
     "output_type": "stream",
     "text": [
      "Grade index being used: 4\n"
     ]
    }
   ],
   "source": [
    "import logging\n",
    "import sys\n",
    "from functools import partial\n",
    "from pathlib import Path\n",
    "\n",
    "import pandas as pd\n",
    "from datasets import load_dataset\n",
    "from omegaconf import OmegaConf\n",
    "from peft import PeftModel\n",
    "from transformers import (\n",
    "    AutoModelForSequenceClassification,\n",
    "    Trainer,\n",
    "    TrainingArguments,\n",
    ")\n",
    "\n",
    "dataset_name = \"kamel-usp/aes_enem_dataset\"\n",
    "dataset_split = \"JBCS2025\"\n",
    "cache_dir = \"/tmp/\"\n",
    "base_model = \"microsoft/phi-4\"\n",
    "fine_tuned_model_id = \"kamel-usp/jbcs2025_phi4-balanced-C5\"\n",
    "grade_index = int(fine_tuned_model_id[-1]) - 1\n",
    "print(f\"Grade index being used: {grade_index}\")"
   ]
  },
  {
   "cell_type": "code",
   "execution_count": 2,
   "metadata": {},
   "outputs": [],
   "source": [
    "parent_dir = str(Path(\".\").resolve().parent) + \"/scripts\"\n",
    "sys.path.append(str(parent_dir))"
   ]
  },
  {
   "cell_type": "code",
   "execution_count": 3,
   "metadata": {},
   "outputs": [],
   "source": [
    "from preprocess import load_tokenizer, tokenize_dataset\n",
    "\n",
    "from metrics.metrics import compute_metrics\n",
    "from models.fine_tuning_models.model_types_enum import ModelTypesEnum"
   ]
  },
  {
   "cell_type": "code",
   "execution_count": 4,
   "metadata": {},
   "outputs": [
    {
     "data": {
      "text/plain": [
       "'phi4_classification_lora'"
      ]
     },
     "execution_count": 4,
     "metadata": {},
     "output_type": "execute_result"
    }
   ],
   "source": [
    "model_type = ModelTypesEnum.PHI4_CLASSIFICATION_LORA.value\n",
    "model_type"
   ]
  },
  {
   "cell_type": "code",
   "execution_count": 5,
   "metadata": {},
   "outputs": [
    {
     "data": {
      "application/vnd.jupyter.widget-view+json": {
       "model_id": "69d6c6094cbc48e29b27db2bb0397aeb",
       "version_major": 2,
       "version_minor": 0
      },
      "text/plain": [
       "Map:   0%|          | 0/500 [00:00<?, ? examples/s]"
      ]
     },
     "metadata": {},
     "output_type": "display_data"
    },
    {
     "data": {
      "application/vnd.jupyter.widget-view+json": {
       "model_id": "44efe19b41ba4f1b9363cc5b18e71fee",
       "version_major": 2,
       "version_minor": 0
      },
      "text/plain": [
       "Map:   0%|          | 0/132 [00:00<?, ? examples/s]"
      ]
     },
     "metadata": {},
     "output_type": "display_data"
    },
    {
     "data": {
      "application/vnd.jupyter.widget-view+json": {
       "model_id": "e4627fefd2224628a6f19c7b0cbb1510",
       "version_major": 2,
       "version_minor": 0
      },
      "text/plain": [
       "Map:   0%|          | 0/138 [00:00<?, ? examples/s]"
      ]
     },
     "metadata": {},
     "output_type": "display_data"
    },
    {
     "data": {
      "application/vnd.jupyter.widget-view+json": {
       "model_id": "1bb0335a0a824ad4b97643ba7b092c35",
       "version_major": 2,
       "version_minor": 0
      },
      "text/plain": [
       "Map:   0%|          | 0/500 [00:00<?, ? examples/s]"
      ]
     },
     "metadata": {},
     "output_type": "display_data"
    },
    {
     "data": {
      "application/vnd.jupyter.widget-view+json": {
       "model_id": "8019553194a54d479d399a1b7e7afb8c",
       "version_major": 2,
       "version_minor": 0
      },
      "text/plain": [
       "Map:   0%|          | 0/132 [00:00<?, ? examples/s]"
      ]
     },
     "metadata": {},
     "output_type": "display_data"
    },
    {
     "data": {
      "application/vnd.jupyter.widget-view+json": {
       "model_id": "1aab5a7833704f5abf252ffcf54f4dab",
       "version_major": 2,
       "version_minor": 0
      },
      "text/plain": [
       "Map:   0%|          | 0/138 [00:00<?, ? examples/s]"
      ]
     },
     "metadata": {},
     "output_type": "display_data"
    }
   ],
   "source": [
    "dataset = load_dataset(\n",
    "    dataset_name,\n",
    "    dataset_split,\n",
    "    cache_dir=cache_dir,\n",
    ")\n",
    "\n",
    "# Load the tokenizer\n",
    "tokenizer = load_tokenizer(\n",
    "    model_type,\n",
    "    base_model,\n",
    "    cache_dir=cache_dir,\n",
    ")\n",
    "\n",
    "tokenized_dataset = tokenize_dataset(\n",
    "    dataset,\n",
    "    tokenizer,\n",
    "    text_column=\"essay_text\",\n",
    "    grade_index=grade_index,\n",
    "    model_type=model_type,\n",
    "    logger=logging.getLogger(),\n",
    ")"
   ]
  },
  {
   "cell_type": "code",
   "execution_count": 6,
   "metadata": {},
   "outputs": [
    {
     "data": {
      "application/vnd.jupyter.widget-view+json": {
       "model_id": "ebf6534f50d6478895c15688604fd438",
       "version_major": 2,
       "version_minor": 0
      },
      "text/plain": [
       "Loading checkpoint shards:   0%|          | 0/6 [00:00<?, ?it/s]"
      ]
     },
     "metadata": {},
     "output_type": "display_data"
    },
    {
     "name": "stderr",
     "output_type": "stream",
     "text": [
      "Some weights of Phi3ForSequenceClassification were not initialized from the model checkpoint at microsoft/phi-4 and are newly initialized: ['score.weight']\n",
      "You should probably TRAIN this model on a down-stream task to be able to use it for predictions and inference.\n"
     ]
    },
    {
     "data": {
      "application/vnd.jupyter.widget-view+json": {
       "model_id": "230973a5e4a74dc98c3620da46021a82",
       "version_major": 2,
       "version_minor": 0
      },
      "text/plain": [
       "adapter_config.json:   0%|          | 0.00/838 [00:00<?, ?B/s]"
      ]
     },
     "metadata": {},
     "output_type": "display_data"
    },
    {
     "data": {
      "application/vnd.jupyter.widget-view+json": {
       "model_id": "618a7996b238447d9e87dee9f387c42c",
       "version_major": 2,
       "version_minor": 0
      },
      "text/plain": [
       "adapter_model.safetensors:   0%|          | 0.00/112M [00:00<?, ?B/s]"
      ]
     },
     "metadata": {},
     "output_type": "display_data"
    },
    {
     "data": {
      "text/plain": [
       "PeftModelForSequenceClassification(\n",
       "  (base_model): LoraModel(\n",
       "    (model): Phi3ForSequenceClassification(\n",
       "      (model): Phi3Model(\n",
       "        (embed_tokens): Embedding(100352, 5120, padding_idx=100349)\n",
       "        (layers): ModuleList(\n",
       "          (0-39): 40 x Phi3DecoderLayer(\n",
       "            (self_attn): Phi3Attention(\n",
       "              (o_proj): lora.Linear(\n",
       "                (base_layer): Linear(in_features=5120, out_features=5120, bias=False)\n",
       "                (lora_dropout): ModuleDict(\n",
       "                  (default): Dropout(p=0.05, inplace=False)\n",
       "                )\n",
       "                (lora_A): ModuleDict(\n",
       "                  (default): Linear(in_features=5120, out_features=8, bias=False)\n",
       "                )\n",
       "                (lora_B): ModuleDict(\n",
       "                  (default): Linear(in_features=8, out_features=5120, bias=False)\n",
       "                )\n",
       "                (lora_embedding_A): ParameterDict()\n",
       "                (lora_embedding_B): ParameterDict()\n",
       "                (lora_magnitude_vector): ModuleDict()\n",
       "              )\n",
       "              (qkv_proj): lora.Linear(\n",
       "                (base_layer): Linear(in_features=5120, out_features=7680, bias=False)\n",
       "                (lora_dropout): ModuleDict(\n",
       "                  (default): Dropout(p=0.05, inplace=False)\n",
       "                )\n",
       "                (lora_A): ModuleDict(\n",
       "                  (default): Linear(in_features=5120, out_features=8, bias=False)\n",
       "                )\n",
       "                (lora_B): ModuleDict(\n",
       "                  (default): Linear(in_features=8, out_features=7680, bias=False)\n",
       "                )\n",
       "                (lora_embedding_A): ParameterDict()\n",
       "                (lora_embedding_B): ParameterDict()\n",
       "                (lora_magnitude_vector): ModuleDict()\n",
       "              )\n",
       "            )\n",
       "            (mlp): Phi3MLP(\n",
       "              (gate_up_proj): lora.Linear(\n",
       "                (base_layer): Linear(in_features=5120, out_features=35840, bias=False)\n",
       "                (lora_dropout): ModuleDict(\n",
       "                  (default): Dropout(p=0.05, inplace=False)\n",
       "                )\n",
       "                (lora_A): ModuleDict(\n",
       "                  (default): Linear(in_features=5120, out_features=8, bias=False)\n",
       "                )\n",
       "                (lora_B): ModuleDict(\n",
       "                  (default): Linear(in_features=8, out_features=35840, bias=False)\n",
       "                )\n",
       "                (lora_embedding_A): ParameterDict()\n",
       "                (lora_embedding_B): ParameterDict()\n",
       "                (lora_magnitude_vector): ModuleDict()\n",
       "              )\n",
       "              (down_proj): lora.Linear(\n",
       "                (base_layer): Linear(in_features=17920, out_features=5120, bias=False)\n",
       "                (lora_dropout): ModuleDict(\n",
       "                  (default): Dropout(p=0.05, inplace=False)\n",
       "                )\n",
       "                (lora_A): ModuleDict(\n",
       "                  (default): Linear(in_features=17920, out_features=8, bias=False)\n",
       "                )\n",
       "                (lora_B): ModuleDict(\n",
       "                  (default): Linear(in_features=8, out_features=5120, bias=False)\n",
       "                )\n",
       "                (lora_embedding_A): ParameterDict()\n",
       "                (lora_embedding_B): ParameterDict()\n",
       "                (lora_magnitude_vector): ModuleDict()\n",
       "              )\n",
       "              (activation_fn): SiLU()\n",
       "            )\n",
       "            (input_layernorm): Phi3RMSNorm((5120,), eps=1e-05)\n",
       "            (post_attention_layernorm): Phi3RMSNorm((5120,), eps=1e-05)\n",
       "            (resid_attn_dropout): Dropout(p=0.0, inplace=False)\n",
       "            (resid_mlp_dropout): Dropout(p=0.0, inplace=False)\n",
       "          )\n",
       "        )\n",
       "        (norm): Phi3RMSNorm((5120,), eps=1e-05)\n",
       "        (rotary_emb): Phi3RotaryEmbedding()\n",
       "      )\n",
       "      (score): ModulesToSaveWrapper(\n",
       "        (original_module): Linear(in_features=5120, out_features=6, bias=False)\n",
       "        (modules_to_save): ModuleDict(\n",
       "          (default): Linear(in_features=5120, out_features=6, bias=False)\n",
       "        )\n",
       "      )\n",
       "    )\n",
       "  )\n",
       ")"
      ]
     },
     "execution_count": 6,
     "metadata": {},
     "output_type": "execute_result"
    }
   ],
   "source": [
    "NUM_LABELS = 6\n",
    "if model_type in [\n",
    "    ModelTypesEnum.LLAMA31_CLASSIFICATION_LORA.value,\n",
    "    ModelTypesEnum.PHI35_CLASSIFICATION_LORA.value,\n",
    "    ModelTypesEnum.PHI4_CLASSIFICATION_LORA.value,\n",
    "]:\n",
    "    base_model = AutoModelForSequenceClassification.from_pretrained(\n",
    "        base_model, num_labels=NUM_LABELS\n",
    "    )\n",
    "    model = PeftModel.from_pretrained(base_model, fine_tuned_model_id)\n",
    "else:\n",
    "    model = AutoModelForSequenceClassification.from_pretrained(\n",
    "        fine_tuned_model_id, cache_dir=cache_dir, num_labels=NUM_LABELS\n",
    "    )\n",
    "model"
   ]
  },
  {
   "cell_type": "code",
   "execution_count": 7,
   "metadata": {},
   "outputs": [],
   "source": [
    "experiment_config = OmegaConf.create({\"experiments\": {\"model\": {\"type\": model_type}}})"
   ]
  },
  {
   "cell_type": "code",
   "execution_count": 8,
   "metadata": {},
   "outputs": [
    {
     "name": "stderr",
     "output_type": "stream",
     "text": [
      "No label_names provided for model class `PeftModelForSequenceClassification`. Since `PeftModel` hides base models input arguments, if label_names is not given, label_names can't be set automatically within `Trainer`. Note that empty label_names list will be used instead.\n"
     ]
    }
   ],
   "source": [
    "compute_metrics_partial = partial(compute_metrics, cfg=experiment_config)\n",
    "PER_DEVICE_EVAL = 2\n",
    "\n",
    "training_args = TrainingArguments(\n",
    "    output_dir=\"test_trainer\",\n",
    "    do_eval=True,\n",
    "    per_device_eval_batch_size=PER_DEVICE_EVAL,\n",
    "    bf16=True,\n",
    ")\n",
    "\n",
    "trainer = Trainer(\n",
    "    model=model,\n",
    "    args=training_args,\n",
    "    eval_dataset=tokenized_dataset[\"test\"],  # or whichever split you want\n",
    "    compute_metrics=compute_metrics_partial,\n",
    ")"
   ]
  },
  {
   "cell_type": "code",
   "execution_count": 9,
   "metadata": {},
   "outputs": [],
   "source": [
    "if model_type in [\n",
    "    ModelTypesEnum.LLAMA31_CLASSIFICATION_LORA.value,\n",
    "    ModelTypesEnum.PHI35_CLASSIFICATION_LORA.value,\n",
    "    ModelTypesEnum.PHI4_CLASSIFICATION_LORA.value,\n",
    "]:\n",
    "    model.config.pad_token_id = model.config.eos_token_id\n",
    "assert model.config.pad_token_id is not None"
   ]
  },
  {
   "cell_type": "code",
   "execution_count": 10,
   "metadata": {},
   "outputs": [
    {
     "data": {
      "text/html": [
       "\n",
       "    <div>\n",
       "      \n",
       "      <progress value='69' max='69' style='width:300px; height:20px; vertical-align: middle;'></progress>\n",
       "      [69/69 00:35]\n",
       "    </div>\n",
       "    "
      ],
      "text/plain": [
       "<IPython.core.display.HTML object>"
      ]
     },
     "metadata": {},
     "output_type": "display_data"
    }
   ],
   "source": [
    "eval_results = trainer.evaluate(tokenized_dataset[\"test\"])"
   ]
  },
  {
   "cell_type": "code",
   "execution_count": 11,
   "metadata": {},
   "outputs": [
    {
     "data": {
      "text/html": [
       "<div>\n",
       "<style scoped>\n",
       "    .dataframe tbody tr th:only-of-type {\n",
       "        vertical-align: middle;\n",
       "    }\n",
       "\n",
       "    .dataframe tbody tr th {\n",
       "        vertical-align: top;\n",
       "    }\n",
       "\n",
       "    .dataframe thead th {\n",
       "        text-align: right;\n",
       "    }\n",
       "</style>\n",
       "<table border=\"1\" class=\"dataframe\">\n",
       "  <thead>\n",
       "    <tr style=\"text-align: right;\">\n",
       "      <th></th>\n",
       "      <th>eval_loss</th>\n",
       "      <th>eval_model_preparation_time</th>\n",
       "      <th>eval_accuracy</th>\n",
       "      <th>eval_RMSE</th>\n",
       "      <th>eval_QWK</th>\n",
       "      <th>eval_HDIV</th>\n",
       "      <th>eval_Macro_F1</th>\n",
       "      <th>eval_Micro_F1</th>\n",
       "      <th>eval_Weighted_F1</th>\n",
       "      <th>eval_Macro_F1_(ignoring_nan)</th>\n",
       "      <th>eval_runtime</th>\n",
       "      <th>eval_samples_per_second</th>\n",
       "      <th>eval_steps_per_second</th>\n",
       "    </tr>\n",
       "  </thead>\n",
       "  <tbody>\n",
       "    <tr>\n",
       "      <th>0</th>\n",
       "      <td>1.530783</td>\n",
       "      <td>0.0279</td>\n",
       "      <td>0.311594</td>\n",
       "      <td>61.479347</td>\n",
       "      <td>0.451071</td>\n",
       "      <td>0.137681</td>\n",
       "      <td>0.188877</td>\n",
       "      <td>0.311594</td>\n",
       "      <td>0.242843</td>\n",
       "      <td>0.283316</td>\n",
       "      <td>36.6081</td>\n",
       "      <td>3.77</td>\n",
       "      <td>1.885</td>\n",
       "    </tr>\n",
       "  </tbody>\n",
       "</table>\n",
       "</div>"
      ],
      "text/plain": [
       "   eval_loss  eval_model_preparation_time  eval_accuracy  eval_RMSE  eval_QWK  \\\n",
       "0   1.530783                       0.0279       0.311594  61.479347  0.451071   \n",
       "\n",
       "   eval_HDIV  eval_Macro_F1  eval_Micro_F1  eval_Weighted_F1  \\\n",
       "0   0.137681       0.188877       0.311594          0.242843   \n",
       "\n",
       "   eval_Macro_F1_(ignoring_nan)  eval_runtime  eval_samples_per_second  \\\n",
       "0                      0.283316       36.6081                     3.77   \n",
       "\n",
       "   eval_steps_per_second  \n",
       "0                  1.885  "
      ]
     },
     "execution_count": 11,
     "metadata": {},
     "output_type": "execute_result"
    }
   ],
   "source": [
    "pd.DataFrame.from_dict(eval_results, orient=\"index\").T"
   ]
  },
  {
   "cell_type": "code",
   "execution_count": 12,
   "metadata": {},
   "outputs": [
    {
     "name": "stdout",
     "output_type": "stream",
     "text": [
      "\n",
      "metrics:\n",
      "          - name: Macro F1 (ignoring nan)\n",
      "            type: f1\n",
      "            value: 0.2833158904587476\n",
      "          - name: QWK\n",
      "            type: qwk\n",
      "            value: 0.4510713065547368\n",
      "          - name: Weighted Macro F1\n",
      "            type: f1\n",
      "            value: 0.24284273352596336\n"
     ]
    }
   ],
   "source": [
    "print(f\"\"\"\n",
    "metrics:\n",
    "          - name: Macro F1 (ignoring nan)\n",
    "            type: f1\n",
    "            value: {eval_results[\"eval_Macro_F1_(ignoring_nan)\"]}\n",
    "          - name: QWK\n",
    "            type: qwk\n",
    "            value: {eval_results[\"eval_QWK\"]}\n",
    "          - name: Weighted Macro F1\n",
    "            type: f1\n",
    "            value: {eval_results[\"eval_Weighted_F1\"]}\"\"\")"
   ]
  },
  {
   "cell_type": "code",
   "execution_count": 13,
   "metadata": {},
   "outputs": [
    {
     "name": "stdout",
     "output_type": "stream",
     "text": [
      "|                              |   test_data |\n",
      "|:-----------------------------|------------:|\n",
      "| eval_accuracy                |    0.311594 |\n",
      "| eval_RMSE                    |   61.4793   |\n",
      "| eval_QWK                     |    0.451071 |\n",
      "| eval_Macro_F1                |    0.188877 |\n",
      "| eval_Macro_F1_(ignoring_nan) |    0.283316 |\n",
      "| eval_Weighted_F1             |    0.242843 |\n",
      "| eval_Micro_F1                |    0.311594 |\n",
      "| eval_HDIV                    |    0.137681 |\n"
     ]
    }
   ],
   "source": [
    "columns_to_use = [\n",
    "    \"eval_accuracy\",\n",
    "    \"eval_RMSE\",\n",
    "    \"eval_QWK\",\n",
    "    \"eval_Macro_F1\",\n",
    "    \"eval_Macro_F1_(ignoring_nan)\",\n",
    "    \"eval_Weighted_F1\",\n",
    "    \"eval_Micro_F1\",\n",
    "    \"eval_HDIV\",\n",
    "]\n",
    "report_df = pd.DataFrame.from_dict(eval_results, orient=\"index\").T\n",
    "report_df = report_df[columns_to_use].T\n",
    "print(report_df.rename(columns={0: \"test_data\"}).to_markdown())"
   ]
  }
 ],
 "metadata": {
  "kernelspec": {
   "display_name": ".venv",
   "language": "python",
   "name": "python3"
  },
  "language_info": {
   "codemirror_mode": {
    "name": "ipython",
    "version": 3
   },
   "file_extension": ".py",
   "mimetype": "text/x-python",
   "name": "python",
   "nbconvert_exporter": "python",
   "pygments_lexer": "ipython3",
   "version": "3.12.9"
  }
 },
 "nbformat": 4,
 "nbformat_minor": 2
}
