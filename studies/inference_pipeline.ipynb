{
 "cells": [
  {
   "cell_type": "code",
   "execution_count": null,
   "metadata": {},
   "outputs": [
    {
     "name": "stdout",
     "output_type": "stream",
     "text": [
      "Grade index being used: 1\n"
     ]
    }
   ],
   "source": [
    "import logging\n",
    "import sys\n",
    "from functools import partial\n",
    "from pathlib import Path\n",
    "\n",
    "from datasets import load_dataset\n",
    "from omegaconf import OmegaConf\n",
    "from transformers import AutoModelForSequenceClassification, Trainer, TrainingArguments\n",
    "import pandas as pd\n",
    "\n",
    "dataset_name = \"kamel-usp/aes_enem_dataset\"\n",
    "dataset_split = \"JBCS2025\"\n",
    "cache_dir = \"/tmp/\"\n",
    "base_model = \"meta-llama/Llama-3.1-8B\"\n",
    "fine_tuned_model_id = \"kamel-usp/jbcs2025_llama31_8b-balanced-C3\"\n",
    "grade_index = int(fine_tuned_model_id[-1]) - 1\n",
    "print(f\"Grade index being used: {grade_index}\")"
   ]
  },
  {
   "cell_type": "code",
   "execution_count": 2,
   "metadata": {},
   "outputs": [],
   "source": [
    "parent_dir = str(Path(\".\").resolve().parent) + \"/scripts\"\n",
    "sys.path.append(str(parent_dir))"
   ]
  },
  {
   "cell_type": "code",
   "execution_count": 3,
   "metadata": {},
   "outputs": [],
   "source": [
    "from preprocess import load_tokenizer, tokenize_dataset\n",
    "from metrics.metrics import compute_metrics\n",
    "from models.fine_tuning_models.model_types_enum import ModelTypesEnum"
   ]
  },
  {
   "cell_type": "code",
   "execution_count": 4,
   "metadata": {},
   "outputs": [
    {
     "data": {
      "text/plain": [
       "'llama31_classification_lora'"
      ]
     },
     "execution_count": 4,
     "metadata": {},
     "output_type": "execute_result"
    }
   ],
   "source": [
    "model_type = ModelTypesEnum.LLAMA31_CLASSIFICATION_LORA.value\n",
    "model_type"
   ]
  },
  {
   "cell_type": "code",
   "execution_count": 5,
   "metadata": {},
   "outputs": [
    {
     "data": {
      "application/vnd.jupyter.widget-view+json": {
       "model_id": "b314752ab61d4607a1c5da5961eb1728",
       "version_major": 2,
       "version_minor": 0
      },
      "text/plain": [
       "Map:   0%|          | 0/500 [00:00<?, ? examples/s]"
      ]
     },
     "metadata": {},
     "output_type": "display_data"
    },
    {
     "data": {
      "application/vnd.jupyter.widget-view+json": {
       "model_id": "e92ac1b7f21a4950bdb2ed5718d0898b",
       "version_major": 2,
       "version_minor": 0
      },
      "text/plain": [
       "Map:   0%|          | 0/132 [00:00<?, ? examples/s]"
      ]
     },
     "metadata": {},
     "output_type": "display_data"
    },
    {
     "data": {
      "application/vnd.jupyter.widget-view+json": {
       "model_id": "6e54b776a0164dbaadb66c7f48b2c0e5",
       "version_major": 2,
       "version_minor": 0
      },
      "text/plain": [
       "Map:   0%|          | 0/138 [00:00<?, ? examples/s]"
      ]
     },
     "metadata": {},
     "output_type": "display_data"
    }
   ],
   "source": [
    "dataset = load_dataset(\n",
    "    dataset_name,\n",
    "    dataset_split,\n",
    "    cache_dir=cache_dir,\n",
    ")\n",
    "\n",
    "# Load the tokenizer\n",
    "tokenizer = load_tokenizer(\n",
    "    model_type,\n",
    "    base_model,\n",
    "    cache_dir=cache_dir,\n",
    ")\n",
    "\n",
    "tokenized_dataset = tokenize_dataset(\n",
    "    dataset,\n",
    "    tokenizer,\n",
    "    text_column=\"essay_text\",\n",
    "    grade_index=grade_index,\n",
    "    model_type=model_type,\n",
    "    logger=logging.getLogger(),\n",
    ")"
   ]
  },
  {
   "cell_type": "code",
   "execution_count": 6,
   "metadata": {},
   "outputs": [
    {
     "data": {
      "application/vnd.jupyter.widget-view+json": {
       "model_id": "1ea7bdd2a941445abcf78127072637c2",
       "version_major": 2,
       "version_minor": 0
      },
      "text/plain": [
       "adapter_config.json:   0%|          | 0.00/825 [00:00<?, ?B/s]"
      ]
     },
     "metadata": {},
     "output_type": "display_data"
    },
    {
     "data": {
      "application/vnd.jupyter.widget-view+json": {
       "model_id": "9119b4b3c5d041b4ba753415ac370bd9",
       "version_major": 2,
       "version_minor": 0
      },
      "text/plain": [
       "Loading checkpoint shards:   0%|          | 0/4 [00:00<?, ?it/s]"
      ]
     },
     "metadata": {},
     "output_type": "display_data"
    },
    {
     "name": "stderr",
     "output_type": "stream",
     "text": [
      "Some weights of LlamaForSequenceClassification were not initialized from the model checkpoint at meta-llama/Llama-3.1-8B and are newly initialized: ['score.weight']\n",
      "You should probably TRAIN this model on a down-stream task to be able to use it for predictions and inference.\n"
     ]
    },
    {
     "data": {
      "application/vnd.jupyter.widget-view+json": {
       "model_id": "44a3f727fe9f43529c655b7e4e39d8cb",
       "version_major": 2,
       "version_minor": 0
      },
      "text/plain": [
       "adapter_model.safetensors:   0%|          | 0.00/84.0M [00:00<?, ?B/s]"
      ]
     },
     "metadata": {},
     "output_type": "display_data"
    }
   ],
   "source": [
    "NUM_LABELS = 6\n",
    "model = AutoModelForSequenceClassification.from_pretrained(\n",
    "    fine_tuned_model_id, cache_dir=cache_dir, num_labels=NUM_LABELS\n",
    ")"
   ]
  },
  {
   "cell_type": "code",
   "execution_count": 7,
   "metadata": {},
   "outputs": [],
   "source": [
    "# 1. Create a dummy config (mimicking the structure your code expects)\n",
    "experiment_config = OmegaConf.create({\"experiments\": {\"model\": {\"type\": model_type}}})"
   ]
  },
  {
   "cell_type": "code",
   "execution_count": 8,
   "metadata": {},
   "outputs": [],
   "source": [
    "compute_metrics_partial = partial(compute_metrics, cfg=experiment_config)\n",
    "PER_DEVICE_EVAL = 2\n",
    "\n",
    "training_args = TrainingArguments(\n",
    "    output_dir=\"test_trainer\",\n",
    "    do_eval=True,\n",
    "    per_device_eval_batch_size=PER_DEVICE_EVAL,\n",
    ")\n",
    "\n",
    "trainer = Trainer(\n",
    "    model=model,\n",
    "    args=training_args,\n",
    "    eval_dataset=tokenized_dataset[\"test\"],  # or whichever split you want\n",
    "    compute_metrics=compute_metrics_partial,\n",
    ")"
   ]
  },
  {
   "cell_type": "code",
   "execution_count": 9,
   "metadata": {},
   "outputs": [],
   "source": [
    "model.config.pad_token_id = tokenizer.pad_token_id"
   ]
  },
  {
   "cell_type": "code",
   "execution_count": 10,
   "metadata": {},
   "outputs": [
    {
     "data": {
      "text/html": [
       "\n",
       "    <div>\n",
       "      \n",
       "      <progress value='69' max='69' style='width:300px; height:20px; vertical-align: middle;'></progress>\n",
       "      [69/69 07:02]\n",
       "    </div>\n",
       "    "
      ],
      "text/plain": [
       "<IPython.core.display.HTML object>"
      ]
     },
     "metadata": {},
     "output_type": "display_data"
    }
   ],
   "source": [
    "eval_results = trainer.evaluate()"
   ]
  },
  {
   "cell_type": "code",
   "execution_count": 11,
   "metadata": {},
   "outputs": [
    {
     "data": {
      "text/html": [
       "<div>\n",
       "<style scoped>\n",
       "    .dataframe tbody tr th:only-of-type {\n",
       "        vertical-align: middle;\n",
       "    }\n",
       "\n",
       "    .dataframe tbody tr th {\n",
       "        vertical-align: top;\n",
       "    }\n",
       "\n",
       "    .dataframe thead th {\n",
       "        text-align: right;\n",
       "    }\n",
       "</style>\n",
       "<table border=\"1\" class=\"dataframe\">\n",
       "  <thead>\n",
       "    <tr style=\"text-align: right;\">\n",
       "      <th></th>\n",
       "      <th>eval_loss</th>\n",
       "      <th>eval_model_preparation_time</th>\n",
       "      <th>eval_accuracy</th>\n",
       "      <th>eval_RMSE</th>\n",
       "      <th>eval_QWK</th>\n",
       "      <th>eval_HDIV</th>\n",
       "      <th>eval_Macro_F1</th>\n",
       "      <th>eval_Micro_F1</th>\n",
       "      <th>eval_Weighted_F1</th>\n",
       "      <th>eval_Macro_F1_(ignoring_nan)</th>\n",
       "      <th>eval_runtime</th>\n",
       "      <th>eval_samples_per_second</th>\n",
       "      <th>eval_steps_per_second</th>\n",
       "    </tr>\n",
       "  </thead>\n",
       "  <tbody>\n",
       "    <tr>\n",
       "      <th>0</th>\n",
       "      <td>1.749257</td>\n",
       "      <td>0.0147</td>\n",
       "      <td>0.304348</td>\n",
       "      <td>73.819207</td>\n",
       "      <td>0.199259</td>\n",
       "      <td>0.15942</td>\n",
       "      <td>0.186761</td>\n",
       "      <td>0.304348</td>\n",
       "      <td>0.291343</td>\n",
       "      <td>0.224113</td>\n",
       "      <td>428.7594</td>\n",
       "      <td>0.322</td>\n",
       "      <td>0.161</td>\n",
       "    </tr>\n",
       "  </tbody>\n",
       "</table>\n",
       "</div>"
      ],
      "text/plain": [
       "   eval_loss  eval_model_preparation_time  eval_accuracy  eval_RMSE  eval_QWK  \\\n",
       "0   1.749257                       0.0147       0.304348  73.819207  0.199259   \n",
       "\n",
       "   eval_HDIV  eval_Macro_F1  eval_Micro_F1  eval_Weighted_F1  \\\n",
       "0    0.15942       0.186761       0.304348          0.291343   \n",
       "\n",
       "   eval_Macro_F1_(ignoring_nan)  eval_runtime  eval_samples_per_second  \\\n",
       "0                      0.224113      428.7594                    0.322   \n",
       "\n",
       "   eval_steps_per_second  \n",
       "0                  0.161  "
      ]
     },
     "execution_count": 11,
     "metadata": {},
     "output_type": "execute_result"
    }
   ],
   "source": [
    "pd.DataFrame.from_dict(eval_results, orient=\"index\").T"
   ]
  },
  {
   "cell_type": "code",
   "execution_count": 12,
   "metadata": {},
   "outputs": [
    {
     "name": "stdout",
     "output_type": "stream",
     "text": [
      "\n",
      "metrics:\n",
      "          - name: Macro F1 (ignoring nan)\n",
      "            type: f1\n",
      "            value: 0.22411344969352892\n",
      "          - name: QWK\n",
      "            type: qwk\n",
      "            value: 0.19925925925925914\n",
      "          - name: Weighted Macro F1\n",
      "            type: f1\n",
      "            value: 0.29134261033082426\n"
     ]
    }
   ],
   "source": [
    "print(f\"\"\"\n",
    "metrics:\n",
    "          - name: Macro F1 (ignoring nan)\n",
    "            type: f1\n",
    "            value: {eval_results[\"eval_Macro_F1_(ignoring_nan)\"]}\n",
    "          - name: QWK\n",
    "            type: qwk\n",
    "            value: {eval_results[\"eval_QWK\"]}\n",
    "          - name: Weighted Macro F1\n",
    "            type: f1\n",
    "            value: {eval_results[\"eval_Weighted_F1\"]}\"\"\")"
   ]
  },
  {
   "cell_type": "code",
   "execution_count": 13,
   "metadata": {},
   "outputs": [
    {
     "name": "stdout",
     "output_type": "stream",
     "text": [
      "|                              |   test_data |\n",
      "|:-----------------------------|------------:|\n",
      "| eval_accuracy                |    0.304348 |\n",
      "| eval_RMSE                    |   73.8192   |\n",
      "| eval_QWK                     |    0.199259 |\n",
      "| eval_Macro_F1                |    0.186761 |\n",
      "| eval_Macro_F1_(ignoring_nan) |    0.224113 |\n",
      "| eval_Weighted_F1             |    0.291343 |\n",
      "| eval_Micro_F1                |    0.304348 |\n",
      "| eval_HDIV                    |    0.15942  |\n"
     ]
    }
   ],
   "source": [
    "columns_to_use = [\n",
    "    \"eval_accuracy\",\n",
    "    \"eval_RMSE\",\n",
    "    \"eval_QWK\",\n",
    "    \"eval_Macro_F1\",\n",
    "    \"eval_Macro_F1_(ignoring_nan)\",\n",
    "    \"eval_Weighted_F1\",\n",
    "    \"eval_Micro_F1\",\n",
    "    \"eval_HDIV\",\n",
    "]\n",
    "report_df = pd.DataFrame.from_dict(eval_results, orient=\"index\").T\n",
    "report_df = report_df[columns_to_use].T\n",
    "print(report_df.rename(columns={0: \"test_data\"}).to_markdown())"
   ]
  },
  {
   "cell_type": "code",
   "execution_count": null,
   "metadata": {},
   "outputs": [],
   "source": []
  }
 ],
 "metadata": {
  "kernelspec": {
   "display_name": ".venv",
   "language": "python",
   "name": "python3"
  },
  "language_info": {
   "codemirror_mode": {
    "name": "ipython",
    "version": 3
   },
   "file_extension": ".py",
   "mimetype": "text/x-python",
   "name": "python",
   "nbconvert_exporter": "python",
   "pygments_lexer": "ipython3",
   "version": "3.12.9"
  }
 },
 "nbformat": 4,
 "nbformat_minor": 2
}
